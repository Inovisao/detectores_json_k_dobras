{
  "nbformat": 4,
  "nbformat_minor": 0,
  "metadata": {
    "colab": {
      "name": "MMdetection Professor Drive.ipynb",
      "provenance": [],
      "collapsed_sections": []
    },
    "kernelspec": {
      "name": "python3",
      "display_name": "Python 3"
    },
    "language_info": {
      "name": "python"
    },
    "accelerator": "GPU"
  },
  "cells": [
    {
      "cell_type": "markdown",
      "metadata": {
        "id": "5Dl57H_FG9HJ"
      },
      "source": [
        "Notebook para usar o código detectores & mmdetection através do Colab.\n",
        "\n",
        "Executa somente o experimento.py, as preparações iniciais dos conjuntos deve ser realizada, inicialmente, em sua máquina, e a execução do código em R ao final também deve ser realizado em sua máquina máquina.\n",
        "\n",
        "Colacar o código do mmdetection_detectores em uma pasta do google drive e execute essse código via colab, lembrando que o colab gratuito tem limite de 12h de execução. link git Inovisão: http://git.inovisao.ucdb.br/inovisao/detectores_json_k_dobras\n",
        "\n",
        "A preparação desse código demora em torno de 20 minutos."
      ]
    },
    {
      "cell_type": "code",
      "metadata": {
        "id": "yFABP3J53I8k"
      },
      "source": [
        "from google.colab import drive\n",
        "drive.mount('/content/drive')"
      ],
      "execution_count": null,
      "outputs": []
    },
    {
      "cell_type": "markdown",
      "metadata": {
        "id": "jnAWTLiNQYEQ"
      },
      "source": [
        "Código para evitar que o Colab desconecte, colocar no console da aba do Chrome (F12) Console\n",
        "\n",
        "\n",
        "function ClickConnect(){\n",
        "  console.log(\"Connnect Clicked - Start\"); \n",
        "  document.querySelector(\"#top-toolbar > colab-connect-button\").shadowRoot.querySelector(\"#connect\").click();\n",
        "  console.log(\"Connnect Clicked - End\"); \n",
        "};\n",
        "setInterval(ClickConnect, 60000)\n",
        "\n",
        "\n",
        "link explicação: https://www.ti-enxame.com/pt/python/como-impedir-que-o-google-colab-se-desconecte/810821538/\n"
      ]
    },
    {
      "cell_type": "code",
      "metadata": {
        "id": "iJkMMWDJ3Msp"
      },
      "source": [
        "# Check nvcc version\n",
        "!nvcc -V\n",
        "# Check GCC version\n",
        "!gcc --version\n",
        "\n",
        "# install dependencies: (use cu101 because colab has CUDA 10.1)\n",
        "!pip install -U torch==1.5.1+cu101 torchvision==0.6.1+cu101 -f https://download.pytorch.org/whl/torch_stable.html\n",
        "\n",
        "# install mmcv-full thus we could use CUDA operators\n",
        "!pip install mmcv-full\n",
        "\n",
        "# Install mmdetection\n",
        "!rm -rf mmdetection\n",
        "!git clone https://github.com/open-mmlab/mmdetection.git\n",
        "%cd mmdetection\n",
        "\n",
        "!pip install -e .\n",
        "\n",
        "# install Pillow 7.0.0 back in order to avoid bug in colab\n",
        "!pip install Pillow==7.0.0\n",
        "\n",
        "# Check Pytorch installation\n",
        "import torch, torchvision\n",
        "print(torch.__version__, torch.cuda.is_available())\n",
        "\n",
        "# Check MMDetection installation\n",
        "import mmdet\n",
        "print(mmdet.__version__)\n",
        "\n",
        "# Check mmcv installation\n",
        "from mmcv.ops import get_compiling_cuda_version, get_compiler_version\n",
        "print(get_compiling_cuda_version())\n",
        "print(get_compiler_version())"
      ],
      "execution_count": null,
      "outputs": []
    },
    {
      "cell_type": "code",
      "metadata": {
        "id": "32XmOX1r3yt3"
      },
      "source": [
        "# Caminho para a pasta do MMdetection\n",
        "%cd /content/drive/MyDrive/detectores_mmdetection\n",
        "%ls"
      ],
      "execution_count": null,
      "outputs": []
    },
    {
      "cell_type": "code",
      "metadata": {
        "id": "w3jNLjS8LiWb"
      },
      "source": [
        ""
      ],
      "execution_count": null,
      "outputs": []
    },
    {
      "cell_type": "code",
      "metadata": {
        "id": "zk_ati3J5CqS"
      },
      "source": [
        "!python experimento.py\n",
        "#ou\n",
        "#!./roda.sh"
      ],
      "execution_count": null,
      "outputs": []
    }
  ]
}